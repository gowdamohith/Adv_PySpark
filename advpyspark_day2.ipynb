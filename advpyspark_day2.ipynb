{
  "nbformat": 4,
  "nbformat_minor": 0,
  "metadata": {
    "colab": {
      "provenance": []
    },
    "kernelspec": {
      "name": "python3",
      "display_name": "Python 3"
    },
    "language_info": {
      "name": "python"
    }
  },
  "cells": [
    {
      "cell_type": "code",
      "execution_count": 42,
      "metadata": {
        "id": "8on5KqQbbwkK"
      },
      "outputs": [],
      "source": [
        "from pyspark.sql import SparkSession\n",
        "from pyspark.sql.functions import avg\n",
        "from pyspark.sql.functions import max\n",
        "from pyspark.sql.functions import col\n",
        "spark = SparkSession.builder.appName('Spark Training').getOrCreate()\n",
        "sc = spark.sparkContext"
      ]
    },
    {
      "cell_type": "code",
      "source": [
        "df = spark.read.format('csv').options(delimiter=',', header=True , inferSchema=True).load('/content/sample_data/population.csv')"
      ],
      "metadata": {
        "id": "Qij_hUjWcmaj"
      },
      "execution_count": 23,
      "outputs": []
    },
    {
      "cell_type": "code",
      "source": [
        "from pyspark.sql.types import StructType, StructField, StringType, IntegerType,IntegerType"
      ],
      "metadata": {
        "id": "Rt1It1OllEyi"
      },
      "execution_count": 30,
      "outputs": []
    },
    {
      "cell_type": "code",
      "source": [
        "schema = StructType([\n",
        "    StructField(name=\"Country Name\", dataType=StringType(), nullable=True),\n",
        "    StructField(name=\"Country Code\", dataType=StringType(), nullable=True),\n",
        "    StructField(name=\"Year\", dataType=IntegerType(), nullable=True),\n",
        "    StructField(name=\"Value\", dataType=IntegerType(), nullable=True)\n",
        "])"
      ],
      "metadata": {
        "id": "9yzoiqJ1l6Yv"
      },
      "execution_count": 32,
      "outputs": []
    },
    {
      "cell_type": "code",
      "source": [
        "df.printSchema()"
      ],
      "metadata": {
        "colab": {
          "base_uri": "https://localhost:8080/"
        },
        "id": "WZG6zXULoaZf",
        "outputId": "6daf873a-c18c-414f-b7e7-b2800be689f3"
      },
      "execution_count": 33,
      "outputs": [
        {
          "output_type": "stream",
          "name": "stdout",
          "text": [
            "root\n",
            " |-- Country Name: string (nullable = true)\n",
            " |-- Country Code: string (nullable = true)\n",
            " |-- Year: integer (nullable = true)\n",
            " |-- Value: double (nullable = true)\n",
            "\n"
          ]
        }
      ]
    },
    {
      "cell_type": "code",
      "source": [
        "avg_value = df.groupBy(\"Country Name\").agg(avg(\"Value\").alias(\"average_value\"))\n",
        "avg_value.show()"
      ],
      "metadata": {
        "colab": {
          "base_uri": "https://localhost:8080/"
        },
        "id": "jeDWOP_QssAe",
        "outputId": "90044a0b-cacd-49a9-e598-f9360bee7d06"
      },
      "execution_count": 35,
      "outputs": [
        {
          "output_type": "stream",
          "name": "stdout",
          "text": [
            "+--------------------+-------------------+\n",
            "|        Country Name|      average_value|\n",
            "+--------------------+-------------------+\n",
            "|          South Asia|  1.2133345478125E9|\n",
            "|                Chad|       8040221.1875|\n",
            "| Lower middle income| 1.83420376521875E9|\n",
            "|            Paraguay|     4215777.890625|\n",
            "| Low & middle income|4.258080837546875E9|\n",
            "|Heavily indebted ...|     4.3425936975E8|\n",
            "|               World|  5.4587022159375E9|\n",
            "|    Congo, Dem. Rep.|  4.5710188265625E7|\n",
            "|             Senegal|     8870310.578125|\n",
            "|          Cabo Verde|        391508.9375|\n",
            "|              Sweden|     8753814.609375|\n",
            "|East Asia & Pacif...|   1.567344636625E9|\n",
            "|            Kiribati|        81998.15625|\n",
            "|Least developed c...|     5.9735165275E8|\n",
            "|              Guyana|        741505.5625|\n",
            "|             Eritrea|     2083260.234375|\n",
            "|         Philippines|  6.7997814796875E7|\n",
            "|Pacific island sm...|      1792425.40625|\n",
            "|            Djibouti|        573017.6875|\n",
            "|               Tonga|       96705.234375|\n",
            "+--------------------+-------------------+\n",
            "only showing top 20 rows\n",
            "\n"
          ]
        }
      ]
    },
    {
      "cell_type": "code",
      "source": [
        "result = df.groupBy(\"Country Name\").agg(\n",
        "    max(\"Value\").alias(\"max_value\")\n",
        ")\n",
        "result.show()"
      ],
      "metadata": {
        "colab": {
          "base_uri": "https://localhost:8080/"
        },
        "id": "K1fa6BYktRCq",
        "outputId": "5ac9df97-1d5e-4bfc-a4e4-c467d16fdb2b"
      },
      "execution_count": 37,
      "outputs": [
        {
          "output_type": "stream",
          "name": "stdout",
          "text": [
            "+--------------------+-------------+\n",
            "|        Country Name|    max_value|\n",
            "+--------------------+-------------+\n",
            "|          South Asia|1.951539835E9|\n",
            "|                Chad|  1.9319064E7|\n",
            "| Lower middle income| 3.07977878E9|\n",
            "|            Paraguay|    6844146.0|\n",
            "| Low & middle income|6.633109634E9|\n",
            "|Heavily indebted ...| 9.17304254E8|\n",
            "|               World|8.061876001E9|\n",
            "|    Congo, Dem. Rep.| 1.05789731E8|\n",
            "|             Senegal|  1.8077573E7|\n",
            "|          Cabo Verde|     522331.0|\n",
            "|              Sweden|  1.0536632E7|\n",
            "|East Asia & Pacif...|2.111139152E9|\n",
            "|            Kiribati|     132530.0|\n",
            "|Least developed c...|1.161055545E9|\n",
            "|              Guyana|     826353.0|\n",
            "|             Eritrea|    3470390.0|\n",
            "|         Philippines| 1.14891199E8|\n",
            "|Pacific island sm...|    2689224.0|\n",
            "|            Djibouti|    1152944.0|\n",
            "|               Tonga|     107570.0|\n",
            "+--------------------+-------------+\n",
            "only showing top 20 rows\n",
            "\n"
          ]
        }
      ]
    },
    {
      "cell_type": "code",
      "source": [
        "asc_sorted = df.orderBy(\"Value\")\n",
        "asc_sorted.show()"
      ],
      "metadata": {
        "colab": {
          "base_uri": "https://localhost:8080/"
        },
        "id": "SEPQOuvluNZI",
        "outputId": "3b781941-4aa6-4ce7-aea4-8b354fa424d8"
      },
      "execution_count": 38,
      "outputs": [
        {
          "output_type": "stream",
          "name": "stdout",
          "text": [
            "+--------------------+------------+----+------+\n",
            "|        Country Name|Country Code|Year| Value|\n",
            "+--------------------+------------+----+------+\n",
            "|Sint Maarten (Dut...|         SXM|1960|2715.0|\n",
            "|Sint Maarten (Dut...|         SXM|1961|2970.0|\n",
            "|Sint Maarten (Dut...|         SXM|1962|3264.0|\n",
            "|Sint Maarten (Dut...|         SXM|1963|3584.0|\n",
            "|Sint Maarten (Dut...|         SXM|1964|3922.0|\n",
            "|St. Martin (Frenc...|         MAF|1960|4250.0|\n",
            "|Sint Maarten (Dut...|         SXM|1965|4282.0|\n",
            "|St. Martin (Frenc...|         MAF|1961|4386.0|\n",
            "|St. Martin (Frenc...|         MAF|1962|4527.0|\n",
            "|               Nauru|         NRU|1960|4607.0|\n",
            "|Sint Maarten (Dut...|         SXM|1966|4664.0|\n",
            "|St. Martin (Frenc...|         MAF|1963|4673.0|\n",
            "|               Nauru|         NRU|1961|4774.0|\n",
            "|St. Martin (Frenc...|         MAF|1964|4827.0|\n",
            "|               Nauru|         NRU|1962|4979.0|\n",
            "|St. Martin (Frenc...|         MAF|1965|4996.0|\n",
            "|Sint Maarten (Dut...|         SXM|1967|5071.0|\n",
            "|St. Martin (Frenc...|         MAF|1966|5213.0|\n",
            "|               Nauru|         NRU|1963|5226.0|\n",
            "|St. Martin (Frenc...|         MAF|1967|5472.0|\n",
            "+--------------------+------------+----+------+\n",
            "only showing top 20 rows\n",
            "\n"
          ]
        }
      ]
    },
    {
      "cell_type": "code",
      "source": [
        "desc_sorted = df.orderBy(\"Value\", ascending=False)\n",
        "desc_sorted.show()"
      ],
      "metadata": {
        "colab": {
          "base_uri": "https://localhost:8080/"
        },
        "id": "rdZWhmGDvZFG",
        "outputId": "e0b462c1-e2f5-4575-c7ac-3dea14017917"
      },
      "execution_count": 39,
      "outputs": [
        {
          "output_type": "stream",
          "name": "stdout",
          "text": [
            "+----------------+------------+----+--------------+\n",
            "|    Country Name|Country Code|Year|         Value|\n",
            "+----------------+------------+----+--------------+\n",
            "|           World|         WLD|2023| 8.061876001E9|\n",
            "|           World|         WLD|2022|7.9899815195E9|\n",
            "|           World|         WLD|2021| 7.921184346E9|\n",
            "|           World|         WLD|2020|7.8561387895E9|\n",
            "|           World|         WLD|2019| 7.776892015E9|\n",
            "|           World|         WLD|2018|7.6964948475E9|\n",
            "|           World|         WLD|2017|7.6141135515E9|\n",
            "|           World|         WLD|2016|7.5285233335E9|\n",
            "|           World|         WLD|2015|7.4414717205E9|\n",
            "|           World|         WLD|2014|7.3539109255E9|\n",
            "|           World|         WLD|2013| 7.265314967E9|\n",
            "|           World|         WLD|2012| 7.175816385E9|\n",
            "|           World|         WLD|2011|7.0862016635E9|\n",
            "|           World|         WLD|2010| 7.000671233E9|\n",
            "|           World|         WLD|2009| 6.916129027E9|\n",
            "|IDA & IBRD total|         IBT|2023| 6.858957145E9|\n",
            "|           World|         WLD|2008| 6.830129091E9|\n",
            "|IDA & IBRD total|         IBT|2022|6.7952222915E9|\n",
            "|           World|         WLD|2007|6.7441714615E9|\n",
            "|IDA & IBRD total|         IBT|2021|  6.73333754E9|\n",
            "+----------------+------------+----+--------------+\n",
            "only showing top 20 rows\n",
            "\n"
          ]
        }
      ]
    },
    {
      "cell_type": "code",
      "source": [
        "df1 = df.select('Country Name', 'Country Code').distinct()\n",
        "df1.count()"
      ],
      "metadata": {
        "colab": {
          "base_uri": "https://localhost:8080/"
        },
        "id": "ksAyzIkjvfem",
        "outputId": "a70d52ab-3d58-43ff-b71a-c21d80f95943"
      },
      "execution_count": 40,
      "outputs": [
        {
          "output_type": "execute_result",
          "data": {
            "text/plain": [
              "265"
            ]
          },
          "metadata": {},
          "execution_count": 40
        }
      ]
    },
    {
      "cell_type": "code",
      "source": [
        "df2 = df.select(col('Country Code').alias('ctry_cd'), 'Value', 'Year').distinct()\n",
        "df2.count()"
      ],
      "metadata": {
        "colab": {
          "base_uri": "https://localhost:8080/"
        },
        "id": "M92e_lKsyPpw",
        "outputId": "6a559589-4ab4-40f1-90db-1de33c4d018e"
      },
      "execution_count": 43,
      "outputs": [
        {
          "output_type": "execute_result",
          "data": {
            "text/plain": [
              "16930"
            ]
          },
          "metadata": {},
          "execution_count": 43
        }
      ]
    },
    {
      "cell_type": "code",
      "source": [
        "df1.join(df2, col('Country Code') == col('ctry_cd')).show()\n"
      ],
      "metadata": {
        "colab": {
          "base_uri": "https://localhost:8080/"
        },
        "id": "fkiN-9_x6dTP",
        "outputId": "f9c0e988-3a94-42f3-b509-bdf00b0a0a52"
      },
      "execution_count": 51,
      "outputs": [
        {
          "output_type": "stream",
          "name": "stdout",
          "text": [
            "+-----------------+------------+-------+------------+----+\n",
            "|     Country Name|Country Code|ctry_cd|       Value|Year|\n",
            "+-----------------+------------+-------+------------+----+\n",
            "|      Afghanistan|         AFG|    AFG| 1.6250794E7|1994|\n",
            "|   American Samoa|         ASM|    ASM|     27995.0|1972|\n",
            "|          Austria|         AUT|    AUT|   7270889.0|1965|\n",
            "|          Burundi|         BDI|    BDI|   4681390.0|1982|\n",
            "|          Belgium|         BEL|    BEL| 1.0478617E7|2005|\n",
            "|            Benin|         BEN|    BEN|   8953969.0|2007|\n",
            "|     Burkina Faso|         BFA|    BFA| 1.6176498E7|2010|\n",
            "|         Bulgaria|         BGR|    BGR|   8312068.0|1997|\n",
            "|         Bulgaria|         BGR|    BGR|   6446596.0|2023|\n",
            "|          Belarus|         BLR|    BLR|   9979610.0|2000|\n",
            "|           Belize|         BLZ|    BLZ|    126445.0|1973|\n",
            "|           Brazil|         BRA|    BRA|1.95284734E8|2011|\n",
            "|Brunei Darussalam|         BRN|    BRN|    142189.0|1972|\n",
            "|  Channel Islands|         CHI|    CHI|    155309.0|2007|\n",
            "|            China|         CHN|    CHN|    6.6033E8|1961|\n",
            "|            China|         CHN|    CHN|    7.5455E8|1967|\n",
            "|            China|         CHN|    CHN|  1.412175E9|2022|\n",
            "|    Cote d'Ivoire|         CIV|    CIV| 1.1275189E7|1988|\n",
            "|       Costa Rica|         CRI|    CRI|   1739731.0|1968|\n",
            "|       Costa Rica|         CRI|    CRI|   2968103.0|1988|\n",
            "+-----------------+------------+-------+------------+----+\n",
            "only showing top 20 rows\n",
            "\n"
          ]
        }
      ]
    },
    {
      "cell_type": "code",
      "source": [
        "df1.join(df2, col('Country Code') == col('ctry_cd')).drop(col('ctry_cd')).show(5,False)"
      ],
      "metadata": {
        "colab": {
          "base_uri": "https://localhost:8080/"
        },
        "id": "VBA9aTe_6k9Z",
        "outputId": "f03f5e97-ffb4-45b0-bcc7-7e1e4c3d3876"
      },
      "execution_count": 52,
      "outputs": [
        {
          "output_type": "stream",
          "name": "stdout",
          "text": [
            "+--------------+------------+-----------+----+\n",
            "|Country Name  |Country Code|Value      |Year|\n",
            "+--------------+------------+-----------+----+\n",
            "|Afghanistan   |AFG         |1.6250794E7|1994|\n",
            "|American Samoa|ASM         |27995.0    |1972|\n",
            "|Austria       |AUT         |7270889.0  |1965|\n",
            "|Burundi       |BDI         |4681390.0  |1982|\n",
            "|Belgium       |BEL         |1.0478617E7|2005|\n",
            "+--------------+------------+-----------+----+\n",
            "only showing top 5 rows\n",
            "\n"
          ]
        }
      ]
    }
  ]
}